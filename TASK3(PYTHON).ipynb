{
 "cells": [
  {
   "cell_type": "code",
   "execution_count": 1,
   "id": "f0f2bdc2-e2cf-4ccf-8430-9a982719547d",
   "metadata": {},
   "outputs": [
    {
     "name": "stdout",
     "output_type": "stream",
     "text": [
      "        date  Inside Duration  Outside Duration  Picking Count  Placing Count\n",
      "0 2024-01-16               80                 0             40             40\n",
      "1 2024-01-17               27                 0             10              9\n",
      "2 2024-01-18               92                 5             37             39\n",
      "Output saved to output.xlsx\n"
     ]
    }
   ],
   "source": [
    "#second method\n",
    "import pandas as pd\n",
    "\n",
    "# Assuming your dataframe is named df\n",
    "df=pd.read_excel('rawdata.xlsx')\n",
    "\n",
    "# Convert 'date' column to datetime format\n",
    "df['date'] = pd.to_datetime(df['date'])\n",
    "\n",
    "# Task 1: Datewise total duration for each inside and outside\n",
    "inside_duration = df[df['position'].str.lower() == 'inside'].groupby('date')['number'].sum().reset_index(name='Inside Duration')\n",
    "outside_duration = df[df['position'].str.lower() == 'outside'].groupby('date')['number'].sum().reset_index(name='Outside Duration')\n",
    "\n",
    "# Task 2: Datewise number of picking and placing activity done\n",
    "picking_count = df[df['activity'].str.lower() == 'picked'].groupby('date').size().reset_index(name='Picking Count')\n",
    "placing_count = df[df['activity'].str.lower() == 'placed'].groupby('date').size().reset_index(name='Placing Count')\n",
    "\n",
    "# Merge results\n",
    "result = pd.merge(inside_duration, outside_duration, on='date', how='outer')\n",
    "result = pd.merge(result, picking_count, on='date', how='outer')\n",
    "result = pd.merge(result, placing_count, on='date', how='outer')\n",
    "\n",
    "# Fill NaN values with 0\n",
    "result.fillna(0, inplace=True)\n",
    "\n",
    "# Convert duration columns to integers\n",
    "result['Inside Duration'] = result['Inside Duration'].astype(int)\n",
    "result['Outside Duration'] = result['Outside Duration'].astype(int)\n",
    "print(result)\n",
    "# Save the result to an Excel file with 'date' column included\n",
    "result.to_excel('output.xlsx', index=False, engine='xlsxwriter')\n",
    "\n",
    "print(\"Output saved to output.xlsx\")\n"
   ]
  },
  {
   "cell_type": "code",
   "execution_count": null,
   "id": "35e03e0a-7dab-499a-a4d2-418583fa58e3",
   "metadata": {},
   "outputs": [],
   "source": []
  },
  {
   "cell_type": "code",
   "execution_count": null,
   "id": "f1ace087-7db4-4d4c-b015-feb2c66dcad3",
   "metadata": {},
   "outputs": [],
   "source": []
  }
 ],
 "metadata": {
  "kernelspec": {
   "display_name": "Python 3 (ipykernel)",
   "language": "python",
   "name": "python3"
  },
  "language_info": {
   "codemirror_mode": {
    "name": "ipython",
    "version": 3
   },
   "file_extension": ".py",
   "mimetype": "text/x-python",
   "name": "python",
   "nbconvert_exporter": "python",
   "pygments_lexer": "ipython3",
   "version": "3.11.7"
  }
 },
 "nbformat": 4,
 "nbformat_minor": 5
}
